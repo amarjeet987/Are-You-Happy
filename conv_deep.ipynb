{
 "cells": [
  {
   "cell_type": "code",
   "execution_count": 1,
   "metadata": {},
   "outputs": [
    {
     "name": "stderr",
     "output_type": "stream",
     "text": [
      "Using TensorFlow backend.\n"
     ]
    }
   ],
   "source": [
    "import keras.backend as K\n",
    "from keras.layers import ZeroPadding2D, Conv2D, BatchNormalization, Activation, Flatten, Dense, Input, MaxPooling2D\n",
    "from keras.models import Model\n",
    "import numpy as np\n",
    "import h5py\n",
    "import matplotlib.pyplot as plt"
   ]
  },
  {
   "cell_type": "code",
   "execution_count": 2,
   "metadata": {},
   "outputs": [],
   "source": [
    "def load_dataset():\n",
    "    train_dataset = h5py.File('./train_happy.h5', 'r')\n",
    "    test_dataset = h5py.File('./test_happy.h5', 'r')\n",
    "    train_x = train_dataset['train_set_x'][:]\n",
    "    train_y = train_dataset['train_set_y'][:]\n",
    "    test_x = test_dataset['test_set_x'][:]\n",
    "    test_y = test_dataset['test_set_y'][:]\n",
    "    classes = test_dataset['list_classes']\n",
    "    return train_x, train_y, test_x, test_y, classes"
   ]
  },
  {
   "cell_type": "code",
   "execution_count": 9,
   "metadata": {},
   "outputs": [],
   "source": [
    "train_x_orig, train_y, test_x_orig, test_y, classes = load_dataset()\n",
    "\n",
    "# normalize the dataset\n",
    "train_x = train_x_orig / 255.\n",
    "test_x = test_x_orig / 255."
   ]
  },
  {
   "cell_type": "code",
   "execution_count": 10,
   "metadata": {},
   "outputs": [],
   "source": [
    "def model(input_shape):\n",
    "    input_ = Input(input_shape)\n",
    "    \n",
    "    '''\n",
    "    input : (n_x, n_y, f_earlier)\n",
    "    output : ((n_x + 2p - f)/s + 1, (n_y + 2p - f_current)/s + 1)\n",
    "    \n",
    "    '''\n",
    "    # layer 1\n",
    "    ##### input : (64, 64, 3) ########\n",
    "    \n",
    "    # Zero padding\n",
    "    X = ZeroPadding2D((3, 3), name = 'zero_pad_1')(input_)\n",
    "    # conv layer\n",
    "    X = Conv2D(32, (7, 7), name = \"conv_2D_1\")(X)\n",
    "    # batchNorm\n",
    "    X = BatchNormalization(axis = 3, name = 'batch_norm_1')(X)\n",
    "    # activation\n",
    "    X = Activation('relu')(X)\n",
    "    # maxpool\n",
    "    X = MaxPooling2D((2, 2), name = 'max_pool_1')(X)\n",
    "    \n",
    "    ##### output : ((64 + 2*3 - 7)/2 + 1, (64 + 2*3 - 7)/2 + 1, 32) : (32, 32, 32)\n",
    "    \n",
    "    # layer 2\n",
    "    \n",
    "    ##### input : (32, 32, 32) #######\n",
    "    \n",
    "    X = ZeroPadding2D((2, 2), name = 'zero_pad_2')(X)\n",
    "    X = Conv2D(64, (5, 5), name = 'conv_2D_2')(X)\n",
    "    X = BatchNormalization(axis = 3, name = 'batch_norm_2')(X)\n",
    "    X = Activation('relu')(X)\n",
    "    X = MaxPooling2D((2, 2), name = 'max_pool_2')(X)\n",
    "    \n",
    "    ##### output : ((32 + 2*2 - 5)/ 2 + 1, (32 + 2*2 - 5)/ 2 + 1, 64) : (16, 16, 64)\n",
    "    \n",
    "    # layer 3\n",
    "    \n",
    "    ##### input : (16, 16, 64) ########\n",
    "    \n",
    "    X = ZeroPadding2D((1, 1), name = 'zero_pad_3')(X)\n",
    "    X = Conv2D(128, (3, 3), name = 'conv_2D_3')(X)\n",
    "    X = BatchNormalization(axis = 3, name = 'batch_norm_3')(X)\n",
    "    X = Activation('relu')(X)\n",
    "    X = MaxPooling2D((2, 2), name = 'max_pool_3')(X)\n",
    "    \n",
    "    ###### output : ((16 + 2*1 - 3)/2 + 1, (16 + 2*1 - 3)/2 + 1, 128) : (8, 8, 128)\n",
    "    \n",
    "    # layer 4\n",
    "    \n",
    "    ###### input : (8, 8, 128) #########\n",
    "    \n",
    "    X = Conv2D(64, (1, 1), name = 'conv_2D_4')(X)\n",
    "    X = BatchNormalization(axis = 3, name = 'batch_norm_4')(X)\n",
    "    X = Activation('relu')(X)\n",
    "    \n",
    "    ###### output : ((8 + 2*0 - 1)/1 + 1, (8 + 2*0 - 1)/1 + 1, 64) : (8, 8, 64)\n",
    "    \n",
    "    # layer 5\n",
    "    \n",
    "    ###### input : (8, 8, 64) ##########\n",
    "    \n",
    "    X = ZeroPadding2D((1, 1), name = 'zero_pad_5')(X)\n",
    "    X = Conv2D(32, (3, 3), name = 'conv_2D_5')(X)\n",
    "    X = BatchNormalization(axis = 3, name = 'batch_norm_5')(X)\n",
    "    X = Activation('relu')(X)\n",
    "    X = MaxPooling2D((2, 2), name = 'max_pool_5')(X)\n",
    "    \n",
    "    ###### output : ((8 + 2*1 - 3)/2 + 1, (8 + 2*1 - 3)/2 + 1,, 32) : (4, 4, 32)\n",
    "    \n",
    "    # layer 6\n",
    "    \n",
    "    ###### input : (4, 4, 32) ###########\n",
    "    \n",
    "    X = Flatten()(X)\n",
    "    X = Dense(128, activation = 'sigmoid', name = 'fully_connected_1')(X)\n",
    "    X = Dense(32, activation = 'sigmoid', name = 'fully_connected_2')(X)\n",
    "    X = Dense(1, activation = 'sigmoid', name = 'fully_connected_3')(X)\n",
    "    \n",
    "    model = Model(inputs = input_, outputs = X, name = 'FullConvModel')\n",
    "    \n",
    "    return model"
   ]
  },
  {
   "cell_type": "code",
   "execution_count": 11,
   "metadata": {},
   "outputs": [],
   "source": [
    "model = model((64, 64, 3))"
   ]
  },
  {
   "cell_type": "code",
   "execution_count": 12,
   "metadata": {},
   "outputs": [
    {
     "name": "stdout",
     "output_type": "stream",
     "text": [
      "_________________________________________________________________\n",
      "Layer (type)                 Output Shape              Param #   \n",
      "=================================================================\n",
      "input_2 (InputLayer)         (None, 64, 64, 3)         0         \n",
      "_________________________________________________________________\n",
      "zero_pad_1 (ZeroPadding2D)   (None, 70, 70, 3)         0         \n",
      "_________________________________________________________________\n",
      "conv_2D_1 (Conv2D)           (None, 64, 64, 32)        4736      \n",
      "_________________________________________________________________\n",
      "batch_norm_1 (BatchNormaliza (None, 64, 64, 32)        128       \n",
      "_________________________________________________________________\n",
      "activation_6 (Activation)    (None, 64, 64, 32)        0         \n",
      "_________________________________________________________________\n",
      "max_pool_1 (MaxPooling2D)    (None, 32, 32, 32)        0         \n",
      "_________________________________________________________________\n",
      "zero_pad_2 (ZeroPadding2D)   (None, 36, 36, 32)        0         \n",
      "_________________________________________________________________\n",
      "conv_2D_2 (Conv2D)           (None, 32, 32, 64)        51264     \n",
      "_________________________________________________________________\n",
      "batch_norm_2 (BatchNormaliza (None, 32, 32, 64)        256       \n",
      "_________________________________________________________________\n",
      "activation_7 (Activation)    (None, 32, 32, 64)        0         \n",
      "_________________________________________________________________\n",
      "max_pool_2 (MaxPooling2D)    (None, 16, 16, 64)        0         \n",
      "_________________________________________________________________\n",
      "zero_pad_3 (ZeroPadding2D)   (None, 18, 18, 64)        0         \n",
      "_________________________________________________________________\n",
      "conv_2D_3 (Conv2D)           (None, 16, 16, 128)       73856     \n",
      "_________________________________________________________________\n",
      "batch_norm_3 (BatchNormaliza (None, 16, 16, 128)       512       \n",
      "_________________________________________________________________\n",
      "activation_8 (Activation)    (None, 16, 16, 128)       0         \n",
      "_________________________________________________________________\n",
      "max_pool_3 (MaxPooling2D)    (None, 8, 8, 128)         0         \n",
      "_________________________________________________________________\n",
      "conv_2D_4 (Conv2D)           (None, 8, 8, 64)          8256      \n",
      "_________________________________________________________________\n",
      "batch_norm_4 (BatchNormaliza (None, 8, 8, 64)          256       \n",
      "_________________________________________________________________\n",
      "activation_9 (Activation)    (None, 8, 8, 64)          0         \n",
      "_________________________________________________________________\n",
      "zero_pad_5 (ZeroPadding2D)   (None, 10, 10, 64)        0         \n",
      "_________________________________________________________________\n",
      "conv_2D_5 (Conv2D)           (None, 8, 8, 32)          18464     \n",
      "_________________________________________________________________\n",
      "batch_norm_5 (BatchNormaliza (None, 8, 8, 32)          128       \n",
      "_________________________________________________________________\n",
      "activation_10 (Activation)   (None, 8, 8, 32)          0         \n",
      "_________________________________________________________________\n",
      "max_pool_5 (MaxPooling2D)    (None, 4, 4, 32)          0         \n",
      "_________________________________________________________________\n",
      "flatten_2 (Flatten)          (None, 512)               0         \n",
      "_________________________________________________________________\n",
      "fully_connected_1 (Dense)    (None, 128)               65664     \n",
      "_________________________________________________________________\n",
      "fully_connected_2 (Dense)    (None, 32)                4128      \n",
      "_________________________________________________________________\n",
      "fully_connected_3 (Dense)    (None, 1)                 33        \n",
      "=================================================================\n",
      "Total params: 227,681\n",
      "Trainable params: 227,041\n",
      "Non-trainable params: 640\n",
      "_________________________________________________________________\n"
     ]
    }
   ],
   "source": [
    "model.summary()"
   ]
  },
  {
   "cell_type": "code",
   "execution_count": 13,
   "metadata": {},
   "outputs": [],
   "source": [
    "model.compile(optimizer = 'adam', loss = 'binary_crossentropy', metrics = ['accuracy'])"
   ]
  },
  {
   "cell_type": "code",
   "execution_count": 14,
   "metadata": {},
   "outputs": [
    {
     "name": "stdout",
     "output_type": "stream",
     "text": [
      "Epoch 1/20\n",
      "600/600 [==============================] - 5s 8ms/step - loss: 0.5902 - acc: 0.7183\n",
      "Epoch 2/20\n",
      "600/600 [==============================] - 1s 2ms/step - loss: 0.2693 - acc: 0.9133\n",
      "Epoch 3/20\n",
      "600/600 [==============================] - 1s 2ms/step - loss: 0.1686 - acc: 0.9517\n",
      "Epoch 4/20\n",
      "600/600 [==============================] - 1s 2ms/step - loss: 0.1603 - acc: 0.9417\n",
      "Epoch 5/20\n",
      "600/600 [==============================] - 1s 2ms/step - loss: 0.1339 - acc: 0.9583\n",
      "Epoch 6/20\n",
      "600/600 [==============================] - 1s 2ms/step - loss: 0.1061 - acc: 0.9700\n",
      "Epoch 7/20\n",
      "600/600 [==============================] - 1s 2ms/step - loss: 0.1223 - acc: 0.9583\n",
      "Epoch 8/20\n",
      "600/600 [==============================] - 1s 2ms/step - loss: 0.0959 - acc: 0.9767\n",
      "Epoch 9/20\n",
      "600/600 [==============================] - 1s 2ms/step - loss: 0.0885 - acc: 0.9750\n",
      "Epoch 10/20\n",
      "600/600 [==============================] - 1s 2ms/step - loss: 0.0715 - acc: 0.9800\n",
      "Epoch 11/20\n",
      "600/600 [==============================] - 1s 2ms/step - loss: 0.0574 - acc: 0.9850\n",
      "Epoch 12/20\n",
      "600/600 [==============================] - 1s 2ms/step - loss: 0.0430 - acc: 0.9883\n",
      "Epoch 13/20\n",
      "600/600 [==============================] - 1s 2ms/step - loss: 0.0751 - acc: 0.9733\n",
      "Epoch 14/20\n",
      "600/600 [==============================] - 1s 2ms/step - loss: 0.0803 - acc: 0.9750\n",
      "Epoch 15/20\n",
      "600/600 [==============================] - 1s 2ms/step - loss: 0.0514 - acc: 0.9850\n",
      "Epoch 16/20\n",
      "600/600 [==============================] - 1s 2ms/step - loss: 0.0439 - acc: 0.9917\n",
      "Epoch 17/20\n",
      "600/600 [==============================] - 1s 2ms/step - loss: 0.0263 - acc: 0.9933\n",
      "Epoch 18/20\n",
      "600/600 [==============================] - 2s 3ms/step - loss: 0.0178 - acc: 0.9983\n",
      "Epoch 19/20\n",
      "600/600 [==============================] - 1s 2ms/step - loss: 0.0164 - acc: 0.9983\n",
      "Epoch 20/20\n",
      "600/600 [==============================] - 1s 2ms/step - loss: 0.0583 - acc: 0.9867\n"
     ]
    },
    {
     "data": {
      "text/plain": [
       "<keras.callbacks.History at 0x1a73e85e860>"
      ]
     },
     "execution_count": 14,
     "metadata": {},
     "output_type": "execute_result"
    }
   ],
   "source": [
    "model.fit(x = train_x, y = train_y, batch_size = 16, epochs = 20)"
   ]
  },
  {
   "cell_type": "code",
   "execution_count": 18,
   "metadata": {},
   "outputs": [
    {
     "name": "stdout",
     "output_type": "stream",
     "text": [
      "150/150 [==============================] - 0s 618us/step\n",
      "Cost : 0.06589991559584936\n",
      "Accuracy : 98.66666642824808 %\n"
     ]
    }
   ],
   "source": [
    "performance = model.evaluate(x = test_x, y = test_y)\n",
    "print(\"Cost :\", performance[0])\n",
    "print(\"Accuracy :\", performance[1] * 100, \"%\")"
   ]
  },
  {
   "cell_type": "code",
   "execution_count": 19,
   "metadata": {},
   "outputs": [],
   "source": [
    "def is_it_happy_face(index, x, predictions):\n",
    "    if predictions[index] == [1]:\n",
    "        print(\"Happy\")\n",
    "    else: \n",
    "        print(\"Sad\")\n",
    "    plt.imshow(x[index])"
   ]
  },
  {
   "cell_type": "code",
   "execution_count": 20,
   "metadata": {},
   "outputs": [],
   "source": [
    "predict_test = (model.predict(x = test_x) > 0.8)*1\n",
    "predict_train = (model.predict(x = train_x) > 0.8)*1"
   ]
  },
  {
   "cell_type": "code",
   "execution_count": 21,
   "metadata": {},
   "outputs": [
    {
     "name": "stdout",
     "output_type": "stream",
     "text": [
      "Sad\n"
     ]
    },
    {
     "data": {
      "image/png": "[encoded data removed]",
      "text/plain": [
       "<Figure size 432x288 with 1 Axes>"
      ]
     },
     "metadata": {},
     "output_type": "display_data"
    }
   ],
   "source": [
    "is_it_happy_face(7, test_x, predict_test)"
   ]
  },
  {
   "cell_type": "code",
   "execution_count": 22,
   "metadata": {},
   "outputs": [
    {
     "name": "stdout",
     "output_type": "stream",
     "text": [
      "Happy\n"
     ]
    },
    {
     "data": {
      "image/png": "[encoded data removed]",
      "text/plain": [
       "<Figure size 432x288 with 1 Axes>"
      ]
     },
     "metadata": {},
     "output_type": "display_data"
    }
   ],
   "source": [
    "is_it_happy_face(10, test_x, predict_test)"
   ]
  },
  {
   "cell_type": "code",
   "execution_count": null,
   "metadata": {},
   "outputs": [],
   "source": []
  }
 ],
 "metadata": {
  "kernelspec": {
   "display_name": "Python 3",
   "language": "python",
   "name": "python3"
  },
  "language_info": {
   "codemirror_mode": {
    "name": "ipython",
    "version": 3
   },
   "file_extension": ".py",
   "mimetype": "text/x-python",
   "name": "python",
   "nbconvert_exporter": "python",
   "pygments_lexer": "ipython3",
   "version": "3.6.2"
  }
 },
 "nbformat": 4,
 "nbformat_minor": 2
}
